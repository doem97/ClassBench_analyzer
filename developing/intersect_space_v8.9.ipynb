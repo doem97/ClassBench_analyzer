{
 "cells": [
  {
   "cell_type": "code",
   "execution_count": 1,
   "metadata": {},
   "outputs": [],
   "source": [
    "import numpy as np\n",
    "from modules import Rule\n",
    "import ipaddress\n",
    "import math\n",
    "\n",
    "\n",
    "def load_ruleset(fname, except_zero = True, random_priority = 0):\n",
    "\t\"\"\" Load ruleset from ClassBench filter file \"\"\"\n",
    "\t\"\"\"\n",
    "\t(expect_zero = True): due to zero nodes(0.0.0.0/n) causes huge computing resource, you can exclude all zero nodes here.\n",
    "\t(random_priorit = n): from 0 to n. if n = 0, use the sequence of the ruleset as each rule's priority.\n",
    "\t\"\"\"\n",
    "\truleset = []\n",
    "\twith open(fname, 'r') as f:\n",
    "\t\tfor n, line in enumerate(f):\n",
    "\t\t\t# LINE FORMAT\n",
    "\t\t\t# @sip_network dip_network sp_low : sp_high dp_low: dp_high protocal/protocol_mask xxx/xxx\n",
    "\t\t\ttok = line.strip().split('\\t')\n",
    "\t\t\trule = Rule()\n",
    "\t\t\tsip = ipaddress.ip_network(tok[0][1:])\n",
    "\t\t\tdip = ipaddress.ip_network(tok[1])\n",
    "\t\t\tsp = tok[2].split(':')\n",
    "\t\t\tdp = tok[3].split(':')\n",
    "\t\t\tprotocol = tok[4].split('/')\n",
    "\t\t\t\n",
    "\t\t\tif except_zero:\n",
    "\t\t\t\tif int(sip[0]) == 0 or int(dip[0]) == 0:\n",
    "\t\t\t\t\tcontinue\n",
    "\t\t\t#sip[0] : given a IP/mask, upper bound of IP address\n",
    "\t\t\t#sip[-1] : given a IP/mask, lower bound of IP address\n",
    "\t\t\trule.sip_low = int(sip[0])\n",
    "\t\t\trule.sip_high = int(sip[-1])\n",
    "\t\t\trule.dip_low = int(dip[0])\n",
    "\t\t\trule.dip_high = int(dip[-1])\n",
    "\t\t\trule.sp_low, rule.sp_high = int(sp[0]), int(sp[1])\n",
    "\t\t\trule.dp_low, rule.dp_high = int(dp[0]), int(dp[1])\n",
    "\t\t\trule.protocol_val, rule.protocol_mask = int(protocol[0], 16), int(protocol[1], 16)\n",
    "\n",
    "\t\t\tif random_priority:\n",
    "\t\t\t\trule.priority = int(random.randint(0, random_priority))\n",
    "\t\t\telse:\n",
    "\t\t\t\trule.priority = n\n",
    "\t\t\truleset.append(rule)\n",
    "\treturn ruleset\n",
    "\n",
    "def cut2points(ruleset):\n",
    "    sip = []\n",
    "    dip = []\n",
    "    sp = []\n",
    "    dp = []\n",
    "    for i in ruleset:\n",
    "        sip.append(i.sip_low)\n",
    "        sip.append(i.sip_high)\n",
    "        dip.append(i.dip_low)\n",
    "        dip.append(i.dip_high)\n",
    "        if i.sp_low == i.sp_high:\n",
    "            sp.append(i.sp_low)\n",
    "            sp.append(i.sp_high+1)\n",
    "        else:\n",
    "            sp.append(i.sp_low)\n",
    "            sp.append(i.sp_high)\n",
    "        if i.dp_low == i.dp_high:\n",
    "            dp.append(i.dp_low)\n",
    "            dp.append(i.dp_high+1)\n",
    "        else:\n",
    "            dp.append(i.dp_low)\n",
    "            dp.append(i.dp_high)\n",
    "    return sorted(set(sip)), sorted(set(dip)), sorted(set(sp)), sorted(set(dp))\n",
    "\n",
    "def list2mapping(a):\n",
    "    mapping = {}\n",
    "    for i,v in enumerate(a):\n",
    "        mapping[v] = i\n",
    "    return mapping\n",
    "\n",
    "def get_point_index(rule,sip_map, dip_map, sp_map, dp_map):\n",
    "    sip_low = sip_map[rule.sip_low]\n",
    "    sip_high = sip_map[rule.sip_high]\n",
    "    dip_low = dip_map[rule.dip_low]\n",
    "    dip_high = dip_map[rule.dip_high]\n",
    "    sp_low = sp_map[rule.sp_low]\n",
    "    sp_high = sp_map[rule.sp_high]\n",
    "    dp_low = dp_map[rule.dp_low]\n",
    "    dp_high = dp_map[rule.dp_high]\n",
    "    return sip_low, sip_high, dip_low, dip_high, sp_low, sp_high, dp_low, dp_high\n",
    "\n",
    "def reverse_map(dict_ori):\n",
    "    dict_new = {value:key for key,value in dict_ori.items()}\n",
    "    return dict_new"
   ]
  },
  {
   "cell_type": "code",
   "execution_count": 2,
   "metadata": {},
   "outputs": [
    {
     "name": "stdout",
     "output_type": "stream",
     "text": [
      "current division of 4 dimension is: sip: 239 , dip: 230 , sp: 23 ,dp: 76\n"
     ]
    }
   ],
   "source": [
    "\"\"\"this cell read the ruleset and cut the full space based on the rules' ranges\"\"\"\n",
    "ruleset = load_ruleset(\"../data/fw filters/MyFilters1k_{}.txt\".format(3), False)\n",
    "sip, dip, sp, dp = cut2points(ruleset) # returns a set\n",
    "sip_len = len(sip)\n",
    "dip_len = len(dip)\n",
    "sp_len = len(sp)\n",
    "dp_len = len(dp)\n",
    "print(\"current division of 4 dimension is: sip: {} , dip: {} , sp: {} ,dp: {}\".format(sip_len, dip_len, sp_len, dp_len))"
   ]
  },
  {
   "cell_type": "code",
   "execution_count": 3,
   "metadata": {},
   "outputs": [],
   "source": [
    "\"\"\"construct a map(Using map is for quick searching with O(1) complexity. It can accelerate the process where squares be \n",
    "put into the divided space and quickly find their correct position.\"\"\"\n",
    "sip_map = list2mapping(sip)\n",
    "dip_map = list2mapping(dip)\n",
    "sp_map = list2mapping(sp)\n",
    "dp_map = list2mapping(dp)\n",
    "sip_re_map = reverse_map(sip_map)\n",
    "dip_re_map = reverse_map(dip_map)\n",
    "sp_re_map = reverse_map(sp_map)\n",
    "dp_re_map = reverse_map(dp_map)"
   ]
  },
  {
   "cell_type": "code",
   "execution_count": 4,
   "metadata": {},
   "outputs": [
    {
     "name": "stdout",
     "output_type": "stream",
     "text": [
      "the space has shape of: (238, 229, 22, 75)\n"
     ]
    }
   ],
   "source": [
    "\"\"\"this cell using numpy function to construct a extra-huge space and the dimension is based on previous cutting\"\"\"\n",
    "temp_1 = np.zeros((sip_len-1, dip_len-1, sp_len-1, dp_len-1), dtype=np.uint8) # sip_len-1 is intervals\n",
    "print(\"the space has shape of: {}\".format(temp_1.shape))"
   ]
  },
  {
   "cell_type": "code",
   "execution_count": 5,
   "metadata": {},
   "outputs": [
    {
     "name": "stdout",
     "output_type": "stream",
     "text": [
      "CPU times: user 666 ms, sys: 56.3 ms, total: 722 ms\n",
      "Wall time: 720 ms\n"
     ]
    }
   ],
   "source": [
    "%%time\n",
    "\"\"\"this cell implements putting squares into the devided space. \n",
    "It uses 1000 cycles here(about 1s) and for 10K, it is about 10s\"\"\"\n",
    "for i in ruleset:\n",
    "    sip_low, sip_high, dip_low, dip_high, sp_low, sp_high, dp_low, dp_high = get_point_index(i, sip_map, dip_map, sp_map, dp_map)\n",
    "    # print(\"{} {} {} {} {} {} {} {}\".format(sip_low, sip_high, dip_low, dip_high, sp_low, sp_high, dp_low, dp_high))\n",
    "    temp_1[sip_low:sip_high, dip_low:dip_high, sp_low:sp_high+1, dp_low:dp_high+1] += 1\n",
    "    # this is the main problem where sp_low:sp_high may be 4:4 and means nothing. Here I use sp_low:sp_high+1, which means 4:5 \n",
    "    # hit the 4:4 rule, and 14:15 hits the 14:14 rule."
   ]
  },
  {
   "cell_type": "code",
   "execution_count": null,
   "metadata": {},
   "outputs": [],
   "source": [
    "%%time\n",
    "# assuming hit_mat\n",
    "hit_mat = temp_1\n",
    "sip_range, dip_range, sp_range = hit_mat.shape[0], hit_mat.shape[1], hit_mat.shape[2]\n",
    "dp_range = hit_mat.shape[3] # can be merged"
   ]
  },
  {
   "cell_type": "code",
   "execution_count": null,
   "metadata": {},
   "outputs": [],
   "source": [
    "%%time\n",
    "weight = 0\n",
    "for dp_ind in range(0, dp_range):\n",
    "    dp_width = dp_re_map[dp_ind+1]-dp_re_map[dp_ind]\n",
    "    volume = np.zeros((sip_range, dip_range, sp_range), dtype = np.float32)\n",
    "    for index in np.ndindex(sip_range, dip_range, sp_range, 1):\n",
    "        if not temp_1[index] >1:\n",
    "            break\n",
    "        volume[index] = math.log((sip_re_map[index[0]+1]-sip_re_map[index[0]])*(dip_re_map[index[1]+1]-dip_re_map[index[1]])*(sp_re_map[index[2]+1]-sp_re_map[index[2]])*dp_width)\n",
    "    hit_split = hit_mat[:,:,:,dp_ind]\n",
    "    weight += np.sum(np.multiply(hit_split, volume))"
   ]
  },
  {
   "cell_type": "code",
   "execution_count": null,
   "metadata": {},
   "outputs": [],
   "source": [
    "%%time\n",
    "weight = 0\n",
    "for dp_ind in range(0, dp_range):\n",
    "    dp_width = dp_re_map[dp_ind+1]-dp_re_map[dp_ind]\n",
    "    volume = np.zeros((sip_range, dip_range, sp_range), dtype = np.float32)\n",
    "    for index in np.ndindex(sip_range, dip_range, sp_range):\n",
    "        volume[index] = math.log((sip_re_map[index[0]+1]-sip_re_map[index[0]])*(dip_re_map[index[1]+1]-dip_re_map[index[1]])*(sp_re_map[index[2]+1]-sp_re_map[index[2]])*dp_width)\n",
    "    hit_split = hit_mat[:,:,:,dp_ind]\n",
    "    weight += np.sum(np.multiply(hit_split, volume))"
   ]
  },
  {
   "cell_type": "code",
   "execution_count": null,
   "metadata": {},
   "outputs": [],
   "source": []
  },
  {
   "cell_type": "code",
   "execution_count": null,
   "metadata": {},
   "outputs": [],
   "source": [
    "count = 0\n",
    "for index,i in enumerate(sip):\n",
    "    if index == 0:\n",
    "        continue\n",
    "    t = i-sip[index-1]\n",
    "    if t> count:\n",
    "        count = t"
   ]
  },
  {
   "cell_type": "code",
   "execution_count": null,
   "metadata": {},
   "outputs": [],
   "source": [
    "count"
   ]
  },
  {
   "cell_type": "code",
   "execution_count": null,
   "metadata": {},
   "outputs": [],
   "source": [
    "t = 67108863*67108863*65535*65535.\n",
    "t = np.log(t, dtype = np.float32)\n",
    "t"
   ]
  },
  {
   "cell_type": "code",
   "execution_count": null,
   "metadata": {},
   "outputs": [],
   "source": [
    "%%time\n",
    "a_size = (5483, 10320, 18)\n",
    "#square_s = np.ones(a_size, dtype = np.float32)\n",
    "square_s_1 = np.fromfunction(lambda i, j, k: 1, a_size, dtype=np.float32)"
   ]
  },
  {
   "cell_type": "code",
   "execution_count": null,
   "metadata": {},
   "outputs": [],
   "source": [
    "hit = np.ones(a_size, dtype = np.uint8)\n",
    "sh = np.multiply(hit, square_s_1)"
   ]
  },
  {
   "cell_type": "code",
   "execution_count": null,
   "metadata": {},
   "outputs": [],
   "source": [
    "%%time\n",
    "np.sum(sh)"
   ]
  },
  {
   "cell_type": "code",
   "execution_count": null,
   "metadata": {},
   "outputs": [],
   "source": [
    "square_s[0][5]"
   ]
  },
  {
   "cell_type": "code",
   "execution_count": null,
   "metadata": {},
   "outputs": [],
   "source": [
    "%%time\n",
    "#square_s = np.ones(a_size, dtype = np.float32)\n",
    "square_s = np.fromfunction(lambda i, j, k: (i,j,k), a_size, dtype=np.float32)"
   ]
  },
  {
   "cell_type": "code",
   "execution_count": null,
   "metadata": {},
   "outputs": [],
   "source": [
    "hit = np.ones(a_size, dtype = np.uint8)\n",
    "hit.shape"
   ]
  },
  {
   "cell_type": "code",
   "execution_count": null,
   "metadata": {},
   "outputs": [],
   "source": [
    "%%time\n",
    "sh = np.multiply(hit, square_s)"
   ]
  },
  {
   "cell_type": "code",
   "execution_count": null,
   "metadata": {},
   "outputs": [],
   "source": [
    "sh"
   ]
  },
  {
   "cell_type": "code",
   "execution_count": null,
   "metadata": {},
   "outputs": [],
   "source": [
    "%%time\n",
    "count = 0\n",
    "for i in z:\n",
    "    for j in i:\n",
    "        for k in j:\n",
    "            k = t"
   ]
  },
  {
   "cell_type": "code",
   "execution_count": null,
   "metadata": {},
   "outputs": [],
   "source": [
    "tmp = np.zeros((3,4,5))"
   ]
  },
  {
   "cell_type": "code",
   "execution_count": null,
   "metadata": {},
   "outputs": [],
   "source": [
    "tmp.shape[2]"
   ]
  },
  {
   "cell_type": "code",
   "execution_count": null,
   "metadata": {},
   "outputs": [],
   "source": [
    "for i in range(0,5):\n",
    "    locals()[\"tmp_\"+str(i)] = i\n",
    "print (tmp_1, tmp_3, tmp_4)"
   ]
  },
  {
   "cell_type": "markdown",
   "metadata": {},
   "source": [
    "# AFTER HAVING THE HIT MATRIX"
   ]
  },
  {
   "cell_type": "code",
   "execution_count": null,
   "metadata": {},
   "outputs": [],
   "source": [
    "# assuming hit_mat\n",
    "hit_mat = temp_1\n",
    "sip_range, dip_range, sp_range = hit_mat.shape[0], hit_mat.shape[1], hit_mat.shape[2]\n",
    "dp_range = hit_mat.shape[3] # can be merged"
   ]
  },
  {
   "cell_type": "code",
   "execution_count": null,
   "metadata": {},
   "outputs": [],
   "source": [
    "%%time\n",
    "weight = 0\n",
    "dp_ind = 0\n",
    "dp_width = dp_re_map[dp_ind+1]-dp_re_map[dp_ind]\n",
    "volume = np.zeros((sip_range, dip_range, sp_range, 1), dtype = np.float32)\n",
    "for index in np.ndindex(sip_range, dip_range, sp_range, 1):\n",
    "    volume[index] = math.log((sip_re_map[index[0]+1]-sip_re_map[index[0]])*(dip_re_map[index[1]+1]-dip_re_map[index[1]])*(sp_re_map[index[2]+1]-sp_re_map[index[2]])*dp_width)\n",
    "hit_split = hit_mat[:,:,:,dp_ind:dp_ind+1]\n",
    "weight += np.sum(np.multiply(hit_split, volume))"
   ]
  },
  {
   "cell_type": "code",
   "execution_count": null,
   "metadata": {},
   "outputs": [],
   "source": [
    "%%time\n",
    "count = 0\n",
    "weight = 0\n",
    "dp_ind = 0\n",
    "dp_width = dp_re_map[dp_ind+1]-dp_re_map[dp_ind]\n",
    "volume = np.zeros((sip_range, dip_range, sp_range, 1), dtype = np.float32)"
   ]
  },
  {
   "cell_type": "code",
   "execution_count": null,
   "metadata": {},
   "outputs": [],
   "source": [
    "%%time\n",
    "for index in np.ndindex(5000, 100, 23, 1):\n",
    "    volume[index] = math.log((sip_re_map[index[0]+1]-sip_re_map[index[0]])*(dip_re_map[index[1]+1]-dip_re_map[index[1]])*(sp_re_map[index[2]+1]-sp_re_map[index[2]])*dp_width)"
   ]
  },
  {
   "cell_type": "code",
   "execution_count": null,
   "metadata": {},
   "outputs": [],
   "source": [
    "%%time\n",
    "for index in np.ndindex(5000, 100, 23, 1):\n",
    "    count += 1"
   ]
  },
  {
   "cell_type": "code",
   "execution_count": null,
   "metadata": {},
   "outputs": [],
   "source": [
    "%%time\n",
    "np.sum(hit_mat)"
   ]
  },
  {
   "cell_type": "code",
   "execution_count": null,
   "metadata": {},
   "outputs": [],
   "source": [
    "%%time\n",
    "t_max = np.max(hit_mat)\n",
    "t_min = np.min(hit_mat)"
   ]
  },
  {
   "cell_type": "code",
   "execution_count": null,
   "metadata": {},
   "outputs": [],
   "source": [
    "print(t_max,t_min)"
   ]
  },
  {
   "cell_type": "code",
   "execution_count": null,
   "metadata": {},
   "outputs": [],
   "source": [
    "%%time\n",
    "len(np.where(hit_mat==23)[0])"
   ]
  },
  {
   "cell_type": "code",
   "execution_count": null,
   "metadata": {},
   "outputs": [],
   "source": [
    "temp_one = np.ones((5000, 10000, 40), dtype = np.uint8)"
   ]
  },
  {
   "cell_type": "code",
   "execution_count": null,
   "metadata": {},
   "outputs": [],
   "source": [
    "np.sum(temp_one)"
   ]
  },
  {
   "cell_type": "code",
   "execution_count": null,
   "metadata": {},
   "outputs": [],
   "source": [
    "temp_one[mask]"
   ]
  },
  {
   "cell_type": "code",
   "execution_count": null,
   "metadata": {},
   "outputs": [],
   "source": [
    "temp_one"
   ]
  },
  {
   "cell_type": "code",
   "execution_count": null,
   "metadata": {},
   "outputs": [],
   "source": []
  }
 ],
 "metadata": {
  "kernelspec": {
   "display_name": "Python [conda env:science3]",
   "language": "python",
   "name": "conda-env-science3-py"
  },
  "language_info": {
   "codemirror_mode": {
    "name": "ipython",
    "version": 3
   },
   "file_extension": ".py",
   "mimetype": "text/x-python",
   "name": "python",
   "nbconvert_exporter": "python",
   "pygments_lexer": "ipython3",
   "version": "3.7.0"
  }
 },
 "nbformat": 4,
 "nbformat_minor": 2
}
